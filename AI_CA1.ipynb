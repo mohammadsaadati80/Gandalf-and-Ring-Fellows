{
 "cells": [
  {
   "cell_type": "markdown",
   "id": "2a3784a2",
   "metadata": {
    "id": "2a3784a2"
   },
   "source": [
    "# AI Computer Assignment 1 (Search Algorithms)\n",
    "Mohammad Saadati - \n",
    "_810198410_"
   ]
  },
  {
   "cell_type": "markdown",
   "id": "cc4f9b6d",
   "metadata": {
    "id": "cc4f9b6d"
   },
   "source": [
    "## Introduction\n",
    "In this project, we are going to find a suitable solution for the following problem and implement it by using uninformed search algorithms (BFS and IDS) and informed search algorithms (A* and weighted A*).\n",
    "\n",
    "The goal of this computer assignment to help our agent to do its job. Our agent is Gandalf. Gray Gandalf is tasked with confronting Sauron, the lord of darkness, with the goal of leading and guiding the ring fellows. To do this, he must pass the fellows of the ring through the eurekas, which are Sauron's army, and bring each one to a specific position, and at the end he goes to Gondor. "
   ]
  },
  {
   "cell_type": "markdown",
   "id": "815f0576",
   "metadata": {
    "id": "815f0576"
   },
   "source": [
    "### Import Libraries"
   ]
  },
  {
   "cell_type": "code",
   "execution_count": 1,
   "id": "a3a8e244",
   "metadata": {
    "id": "a3a8e244"
   },
   "outputs": [],
   "source": [
    "from time import time\n",
    "import heapq\n",
    "import math"
   ]
  },
  {
   "cell_type": "markdown",
   "id": "4f8718d3",
   "metadata": {
    "id": "4f8718d3"
   },
   "source": [
    "### Defining Constants"
   ]
  },
  {
   "cell_type": "code",
   "execution_count": 2,
   "id": "202f7605",
   "metadata": {
    "id": "202f7605"
   },
   "outputs": [],
   "source": [
    "TESTCASE1 = \"test_00.txt\"\n",
    "TESTCASE2 = \"test_01.txt\"\n",
    "TESTCASE3 = \"test_02.txt\"\n",
    "TESTCASE4 = \"test_03.txt\"\n",
    "NUMBER_OF_TEST_REPETITIONS = 3\n",
    "BLANK = \" \"\n",
    "HELPER = \"h\"\n",
    "EUREKA = \"e\"\n",
    "DES_HELPER = \"d\"\n",
    "RIGHT = \"R\"\n",
    "UP = \"U\"\n",
    "LEFT = \"L\"\n",
    "DOWN = \"D\"\n",
    "TYPE = 0\n",
    "ID = 1\n",
    "HEURISTIC = 0\n",
    "HIGH_WEIGHTED = 1\n",
    "LOW_WEIGHTED = 2\n",
    "SMALL_ALPHA = 2.25\n",
    "BIG_ALPHA = 12.25\n",
    "MAP_LENGHT = 0\n",
    "MAP_WIDTH = 0\n",
    "NUMBER_OF_FELLOWS = 0"
   ]
  },
  {
   "cell_type": "markdown",
   "id": "7005c081",
   "metadata": {
    "id": "7005c081"
   },
   "source": [
    "## Modeling the Problem\n",
    "* State: a list of the positions of the Gandalf, status of reaching the destination of each Helper, has Gandalf taken the Helper to his destination or not, is Gandalf at home under the supervision of Eureka and the military rank of the Eureka under his supervision  \n",
    "* Initial State: all Helpers are left and the Gandalf is at the given starting position\n",
    "* Actions: move one unit to Right, Up, Left, Down\n",
    "* Transition model: it's implented in the Node class and generates a new state or false from current state and action.\n",
    "* Goal State: all Helpers should have reached their destination and Gandalf should have reached his destination."
   ]
  },
  {
   "cell_type": "code",
   "execution_count": 3,
   "id": "50cf3902",
   "metadata": {
    "id": "50cf3902"
   },
   "outputs": [],
   "source": [
    "class Node:\n",
    "\tdef __init__(self, gandalf_x, gandalf_y, end_x, end_y, eureka_manhattan, des_helpers_x, des_helpers_y, game_map,\n",
    "                 cur_helper, cur_eureka_area, eureka_area_cur_capacity, is_helpers_reach_des, parent=None, action=None):\n",
    "\t\tself.gandalf_x = gandalf_x\n",
    "\t\tself.gandalf_y = gandalf_y\n",
    "\t\tself.end_x = end_x\n",
    "\t\tself.end_y = end_y\n",
    "\t\tself.eureka_manhattan = eureka_manhattan\n",
    "\t\tself.des_helpers_x = des_helpers_x\n",
    "\t\tself.des_helpers_y = des_helpers_y\n",
    "\t\tself.game_map = game_map\n",
    "\t\tself.cur_helper = cur_helper\n",
    "\t\tself.cur_eureka_area = cur_eureka_area\n",
    "\t\tself.eureka_area_cur_capacity = eureka_area_cur_capacity\n",
    "\t\tself.is_helpers_reach_des = is_helpers_reach_des\n",
    "\t\tself.parent = parent\n",
    "\t\tself.action = action\n",
    "\t\tself.path_cost = 0\n",
    "\t\tif self.parent:\n",
    "\t\t\tself.path_cost = parent.get_cost() + 1\n",
    "\n",
    "\tdef get_cost(self):\n",
    "\t\treturn self.path_cost\n",
    "\n",
    "\tdef goal_test(self):\n",
    "\t\tif self.gandalf_x == self.end_x and self.gandalf_y == self.end_y:\n",
    "\t\t\tif False in self.is_helpers_reach_des:\n",
    "\t\t\t\treturn False\n",
    "\t\t\telse:\n",
    "\t\t\t\treturn True\n",
    "\t\treturn False\n",
    "\n",
    "\tdef get_children(self):\n",
    "\t\tchildren = set()\n",
    "\t\tself.add_new_child(children, 0, 1, RIGHT)\n",
    "\t\tself.add_new_child(children, 1, 0, DOWN)\n",
    "\t\tself.add_new_child(children, 0, -1, LEFT)\n",
    "\t\tself.add_new_child(children, -1, 0, UP)\n",
    "\t\treturn children\n",
    "\n",
    "\tdef add_new_child(self, children, delta_x, delta_y, action):\n",
    "\t\tmove = False\n",
    "\t\ti = self.gandalf_x\n",
    "\t\tj = self.gandalf_y\n",
    "        \n",
    "\t\tif action == RIGHT:\n",
    "\t\t\tif j == len(self.game_map[0]) - 1:\n",
    "\t\t\t\tmove = False\n",
    "\t\t\t\treturn\n",
    "\t\telif action == DOWN:\n",
    "\t\t\tif i == len(self.game_map) - 1:\n",
    "\t\t\t\tmove = False\n",
    "\t\t\t\treturn\n",
    "\t\telif action == LEFT:\n",
    "\t\t\tif j == 0:\n",
    "\t\t\t\tmove = False\n",
    "\t\t\t\treturn           \n",
    "\t\telif action == UP:\n",
    "\t\t\tif i == 0:\n",
    "\t\t\t\tmove = False\n",
    "\t\t\t\treturn \n",
    "            \n",
    "\t\tgandalf_x = self.gandalf_x\n",
    "\t\tgandalf_y = self.gandalf_y\n",
    "\t\tend_x = self.end_x\n",
    "\t\tend_y = self.end_y\n",
    "\t\teureka_manhattan = self.eureka_manhattan[:]\n",
    "\t\tdes_helpers_x = self.des_helpers_x[:]\n",
    "\t\tdes_helpers_y = self.des_helpers_y[:]\n",
    "\t\tgame_map = self.game_map\n",
    "\t\tcur_helper = self.cur_helper\n",
    "\t\tcur_eureka_area = self.cur_eureka_area\n",
    "\t\teureka_area_cur_capacity = self.eureka_area_cur_capacity\n",
    "\t\tis_helpers_reach_des = self.is_helpers_reach_des[:]\n",
    "        \n",
    "\t\tif game_map[i+delta_x][j+delta_y][TYPE] != EUREKA:\n",
    "\t\t\teureka_area_cur_capacity = 0\n",
    "\t\t\tcur_eureka_area = -1\n",
    "\t\t\tif cur_helper != -1:\n",
    "\t\t\t\tif des_helpers_x[cur_helper] == i+delta_x and des_helpers_y[cur_helper] == j+delta_y:\n",
    "\t\t\t\t\tif is_helpers_reach_des[cur_helper] == 0:\n",
    "\t\t\t\t\t\tis_helpers_reach_des[cur_helper] = 1\n",
    "\t\t\t\t\t\tcur_helper = -1\n",
    "\t\t\tif game_map[i+delta_x][j+delta_y][TYPE] == HELPER and cur_helper == -1:\n",
    "\t\t\t\tif is_helpers_reach_des[int(game_map[i+delta_x][j+delta_y][ID])] == 0:\n",
    "\t\t\t\t\tcur_helper = int(game_map[i+delta_x][j+delta_y][ID])\n",
    "\t\t\tmove = True\n",
    "\t\telse:\n",
    "\t\t\tif cur_eureka_area == -1:\n",
    "\t\t\t\tcur_eureka_area = int(game_map[i+delta_x][j+delta_y][ID])\n",
    "\t\t\t\teureka_area_cur_capacity = 1\n",
    "\t\t\t\tmove = True\n",
    "\t\t\telif cur_eureka_area != -1 and cur_eureka_area == int(game_map[i+delta_x][j+delta_y][ID]):\n",
    "\t\t\t\tif eureka_area_cur_capacity < eureka_manhattan[cur_eureka_area]:\n",
    "\t\t\t\t\teureka_area_cur_capacity += 1\n",
    "\t\t\t\t\tmove = True\n",
    "\t\t\t\telse:\n",
    "\t\t\t\t\tmove = False\n",
    "\t\t\telif cur_eureka_area != -1 and cur_eureka_area != int(game_map[i+delta_x][j+delta_y][ID]):\n",
    "\t\t\t\tcur_eureka_area = int(game_map[i+delta_x][j+delta_y][ID])\n",
    "\t\t\t\teureka_area_cur_capacity = 1\n",
    "\t\t\t\tmove = True               \n",
    "\n",
    "\t\tif move == True:\n",
    "\t\t\tgandalf_x += delta_x\n",
    "\t\t\tgandalf_y += delta_y\n",
    "\t\t\tp = \"\"\n",
    "\t\t\tp += action\n",
    "\t\t\tp += \" \"\n",
    "\t\t\tnew_node = Node(gandalf_x, gandalf_y, end_x, end_y, eureka_manhattan, des_helpers_x, des_helpers_y, game_map,\n",
    "                                cur_helper, cur_eureka_area, eureka_area_cur_capacity, is_helpers_reach_des, self, p)\n",
    "\t\t\tchildren.add(new_node)\n",
    "\n",
    "\tdef get_string(self):\n",
    "\t\ts = \"\"\n",
    "\t\tfor i in range(len(self.is_helpers_reach_des)):\n",
    "\t\t\ts += str(self.is_helpers_reach_des[i])\n",
    "\t\t\ts += '$'\n",
    "\t\ts += str(self.gandalf_x)\n",
    "\t\ts += '$'\n",
    "\t\ts += str(self.gandalf_y)\n",
    "\t\ts += '$'\n",
    "\t\ts += str(self.cur_helper)\n",
    "\t\ts += '$'\n",
    "\t\ts += str(self.cur_eureka_area)\n",
    "\t\ts += '$'\n",
    "\t\ts += str(self.eureka_area_cur_capacity)\n",
    "\t\ts += '$'\n",
    "\t\treturn s\n",
    "\n",
    "\tdef get_state(self):\n",
    "\t\tinfo = list()\n",
    "\t\tinfo.append(self.gandalf_x)\n",
    "\t\tinfo.append(self.gandalf_y)\n",
    "\t\tinfo.append(self.is_helpers_reach_des)\n",
    "\t\tinfo.append(self.cur_helper)\n",
    "\t\treturn info"
   ]
  },
  {
   "cell_type": "markdown",
   "id": "008c12a9",
   "metadata": {
    "id": "008c12a9"
   },
   "source": [
    "### Defining FIFO Queue"
   ]
  },
  {
   "cell_type": "code",
   "execution_count": 4,
   "id": "a3226409",
   "metadata": {
    "id": "a3226409"
   },
   "outputs": [],
   "source": [
    "class FIFO_queue:\n",
    "\tdef __init__(self):\n",
    "\t\tself.datalist = []\n",
    "\n",
    "\tdef enqueue(self, data):\n",
    "\t\tself.datalist.append(data)\n",
    "\n",
    "\tdef dequeue(self):\n",
    "\t\tif self.is_empty() == True:\n",
    "\t\t\treturn\n",
    "\t\tdata = self.datalist[0]\n",
    "\t\tself.datalist.pop(0)\n",
    "\t\treturn data\n",
    "\n",
    "\tdef is_empty(self):\n",
    "\t\tif len(self.datalist) == 0:\n",
    "\t\t\treturn True\n",
    "\t\treturn False"
   ]
  },
  {
   "cell_type": "markdown",
   "id": "5e66b7c0",
   "metadata": {
    "id": "5e66b7c0"
   },
   "source": [
    "### BFS Algorithm \n",
    "The Breadth First Search `BFS` algorithm is an uninformed search algorithm. We use a *FIFO Queue* for BFS class as the frontier set and we expand the shallowest states first. The BFS class has an explored set that every\n",
    "time we expand a node, we add its state to this set, Also we\n",
    "stored number of visited states and number of unique visited\n",
    "states in this class that we update them during the execution of\n",
    "the algorithm. The algorithm runs when we call the *run_bfs()*\n",
    "function on its instance. \n",
    "At first we add intial state into frontier and then pop it from the queue. \n",
    "Then all possible actions from initial values which does not explored before, will add to the frontier \n",
    "and next we will redo these steps until we find goal state. BFS returns the solution by the time it reaches to it."
   ]
  },
  {
   "cell_type": "code",
   "execution_count": 5,
   "id": "90f4bdef",
   "metadata": {
    "id": "90f4bdef"
   },
   "outputs": [],
   "source": [
    "class BFS:\n",
    "\tdef __init__(self, gandalf_x, gandalf_y, end_x, end_y, eureka_manhattan, des_helpers_x, des_helpers_y, game_map):\n",
    "\t\tself.inital_node = Node(gandalf_x, gandalf_y, end_x, end_y, eureka_manhattan, des_helpers_x, des_helpers_y, game_map,\n",
    "                                -1, -1, 0, [0]*len(des_helpers_x))\n",
    "\t\tself.frontier = FIFO_queue()\n",
    "\t\tself.explored = set()\n",
    "\t\tself.unique_states = set()\n",
    "\t\tself.number_of_states = 0\n",
    "\t\tself.number_of_unique_states = 0\n",
    "\t\tself.path_cost = 0\n",
    "\t\tself.goal_node = None\n",
    "\t\tself.path = ''\n",
    " \n",
    "\tdef run_bfs(self):\n",
    "\t\tnode = self.inital_node\n",
    "\t\tif node.goal_test():\n",
    "\t\t\tself.goal_node = node\n",
    "\t\t\tself.path_cost = node.path_cost\n",
    "\t\t\treturn True\n",
    "\t\tself.frontier.enqueue(node)\n",
    "\t\twhile not self.frontier.is_empty():\n",
    "\t\t\tself.number_of_states += 1\n",
    "\t\t\tnode = self.frontier.dequeue()\n",
    "\t\t\tif node.get_string() in self.explored:\n",
    "\t\t\t\tcontinue\n",
    "\t\t\tself.explored.add(node.get_string())\n",
    "\t\t\tif not node.get_string() in self.unique_states:\n",
    "\t\t\t\tself.unique_states.add(node.get_string())\n",
    "\t\t\t\tself.number_of_unique_states += 1\n",
    "\t\t\tif node.goal_test():\n",
    "\t\t\t\tself.goal_node = node\n",
    "\t\t\t\tself.path_cost = node.path_cost\n",
    "\t\t\t\treturn True\n",
    "\t\t\tfor child in node.get_children():\n",
    "\t\t\t\tif not child.get_string() in self.explored:\n",
    "\t\t\t\t\tif child.goal_test():\n",
    "\t\t\t\t\t\tself.goal_node = child\n",
    "\t\t\t\t\t\tself.path_cost= child.path_cost\n",
    "\t\t\t\t\t\treturn True\n",
    "\t\t\t\t\tself.frontier.enqueue(child)\n",
    "\t\treturn False\n",
    "\n",
    "\tdef show_bfs_result(self):\n",
    "\t\tnode = self.goal_node\n",
    "\t\twhile node.parent != None:\n",
    "\t\t\tself.path += node.action\n",
    "\t\t\tnode = node.parent\n",
    "\t\tself.path = ''.join(reversed(self.path))\n",
    "\t\tprint(\"$ BFS $\")\n",
    "\t\tprint(\"Path Cost: \" + str(self.path_cost))\n",
    "\t\tprint(\"Path: \" + self.path)\n",
    "\t\tprint(\"Number of Visited States: \" + str(self.number_of_states))\n",
    "\t\tprint(\"Number of Unique Visited States: \" + str(self.number_of_unique_states))"
   ]
  },
  {
   "cell_type": "markdown",
   "id": "c0f33f98",
   "metadata": {
    "id": "c0f33f98"
   },
   "source": [
    "\n"
   ]
  },
  {
   "cell_type": "markdown",
   "id": "342f423e",
   "metadata": {
    "id": "342f423e"
   },
   "source": [
    "### IDS Algorithm\n",
    "The Iterative Deepening Search `IDS` algorithm is another uninformed search algorithm. It uses Depth Limited Search `DLS` algorithm with different max depth.    The IDS class has a *Stack (LIFO queue)* is used as the frontier set and the deepest states are expanded first, i.e. in a branch we go as deep as possible and then we traverse back up, an explored set that every\n",
    "time we expand a node, we add its state to this set and a\n",
    "dictionary that has each state as its key and minimum depth that\n",
    "this state has been visited at. Also we stored number of visited\n",
    "states and number of unique visited states in this class that we\n",
    "update them during the execution of the algorithm. It may be slower than `BFS` and will just find the first answer which may not be an optimal solution to the problem. It also fails in infinite-depth spaces. The algorithm runs when we call the *run_ids()* function on its instance. This function calls the subroutine *dls* that executes a depth limited search with the specified depth. We have a loop to increas depth in every iteration of it. Actualy at every iteration we increase depth and run inner loop which is a limited dfs. At every itteration we reset all of data structures to initial values. In limited dfs  We pop first node from stack. Then if it's depth is our limit we didn't add it's children to frontier else we add chidlren to frontier"
   ]
  },
  {
   "cell_type": "code",
   "execution_count": 6,
   "id": "75fc0e7a",
   "metadata": {
    "id": "75fc0e7a"
   },
   "outputs": [],
   "source": [
    "class IDS:\n",
    "\tdef __init__(self, gandalf_x, gandalf_y, end_x, end_y, eureka_manhattan, des_helpers_x, des_helpers_y, game_map):\n",
    "\t\tself.inital_node = Node(gandalf_x, gandalf_y, end_x, end_y, eureka_manhattan, des_helpers_x, des_helpers_y, game_map,\n",
    "                                -1, -1, 0, [0]*len(des_helpers_x))\n",
    "\t\tself.explored = set()\n",
    "\t\tself.unique_states = set()\n",
    "\t\tself.number_of_states = 0\n",
    "\t\tself.number_of_unique_states = 0\n",
    "\t\tself.path_cost = 0\n",
    "\t\tself.goal_node = None\n",
    "\t\tself.path = ''\n",
    "\t\tself.min_depth_explored = {}\n",
    "\n",
    "\tdef dls(self, node, depth):\n",
    "\t\tself.number_of_states += 1\n",
    "\t\tif not node.get_string() in self.unique_states:\n",
    "\t\t\tself.unique_states.add(node.get_string())\n",
    "\t\t\tself.number_of_unique_states += 1\n",
    "\t\tif node.goal_test():\n",
    "\t\t\tself.goal_node = node\n",
    "\t\t\treturn True\n",
    "\t\tif depth <= 0:\n",
    "\t\t\treturn False\n",
    "\t\tself.min_depth_explored[node.get_string()] = depth\n",
    "\t\tfor child in node.get_children():\n",
    "\t\t\tif (not child.get_string() in self.min_depth_explored) or self.min_depth_explored[child.get_string()] < depth-1:\n",
    "\t\t\t\tif self.dls(child, depth-1) == True:\n",
    "\t\t\t\t\treturn True\t\n",
    "\t\treturn False\n",
    "\n",
    "\tdef run_ids(self):\n",
    "\t\tdepth = 1\n",
    "\t\tself.min_depth_explored = {}\n",
    "\t\tnode = self.inital_node\n",
    "\t\tfor i in range(8*MAP_LENGHT*MAP_WIDTH*NUMBER_OF_FELLOWS):\n",
    "\t\t\tif self.dls(node, depth) == True:\n",
    "\t\t\t\tself.path_cost = depth\n",
    "\t\t\t\treturn True\n",
    "\t\t\tdepth +=1\n",
    "\t\t\n",
    "\tdef show_ids_result(self):\n",
    "\t\tnode = self.goal_node\n",
    "\t\twhile node.parent != None:\n",
    "\t\t\tself.path += node.action\n",
    "\t\t\tnode = node.parent\n",
    "\t\tprint(\"$ IDS $\")\n",
    "\t\tprint(\"Path Cost: \" + str(self.path_cost))\n",
    "\t\tprint(\"Path: \" + self.path)\n",
    "\t\tprint(\"Number of Visited States: \" + str(self.number_of_states))\n",
    "\t\tprint(\"Number of Unique Visited States: \" + str(self.number_of_unique_states))"
   ]
  },
  {
   "cell_type": "markdown",
   "id": "29db6cec",
   "metadata": {
    "id": "29db6cec"
   },
   "source": [
    "### Defining HEAP Queue"
   ]
  },
  {
   "cell_type": "code",
   "execution_count": 7,
   "id": "d2ca0ceb",
   "metadata": {
    "id": "d2ca0ceb"
   },
   "outputs": [],
   "source": [
    "class HEAP_queue:\n",
    "    def __init__(self):\n",
    "        self.top = 0\n",
    "        self.datalist = []\n",
    "        \n",
    "    def enqueue(self, data, indicator):\n",
    "        self.top += 1\n",
    "        heapq.heappush(self.datalist, (indicator, self.top, data))\n",
    "        \n",
    "    def dequeue(self):\n",
    "        return heapq.heappop(self.datalist)[-1]\n",
    "\n",
    "    def is_empty(self):\n",
    "        if len(self.datalist) == 0:\n",
    "            return True\n",
    "        return False"
   ]
  },
  {
   "cell_type": "markdown",
   "id": "7b629c48",
   "metadata": {
    "id": "7b629c48"
   },
   "source": [
    "### A* Algorithm\n",
    "This algorithm is very similar to `BFS` algorithm, but it uses a priority queue as it's frontier instead. The A* class \n",
    "has a frontier set that is implemented by min-heap queue that its indicator for choosing a node is the value of the evaluating\n",
    "function *f*. The argument of this function is a node and the return value of this function is sum of the path_cost of the node\n",
    "and the value of the heuristic function. At first we add intial state into frontier and then pop it from the queue. Then all possible actions from initial values which does not explored before, will add to the frontier and next we will redo these steps until we find goal state.\n",
    "\n",
    "#### Heuristic:\n",
    " \n",
    "- When all the Helpers have reached their destination, the heuristic is the Manhattan distance from Gandalf's current location to Gandalf's final destination.\n",
    "\n",
    "- When Gandalf picks a Helper to reach his destination, the heuristic is the Manhattan distance from Gandalf's current location to the destination of the Helper he picks, plus the Manhattan distance from the destination of the Helper he delivered to Gandalf's final destination.\n",
    "\n",
    "- When Gandalf has not selected a helper to reach his destination, the heuristic is the maximum of Manhattan distance of Gandalf's current location to the origin of any helper that has not reached its destination, plus the Manhattan distance from the origin of any remaining helper to its destination, plus the Manhattan distance from Helper's destination to Gandalf's final destination.\n",
    "\n",
    "#### Proof of Amissiblity: \n",
    "This heuristic never overestimates the cost to reach the goal, because in the first case the heuristic is less than the actual distance to the destination, and in the second and third cases we have at least one Helper from there, and we only calculate the distance of one Helper. So again it is less than the actual distance.\n",
    "\n",
    "$$ h(n) \\leqslant \\text{h*}(n) $$ \n",
    "\n",
    "#### Proof of Consistency: \n",
    "If the following equation holds, a heuristic is consistant:\n",
    "\n",
    "$$ cost(A to C) \\geq h(A) - h(C)$$\n",
    "\n",
    "We need to check for every possible move the difference of the heuristics is less than or equal to one:\n",
    "\n",
    "- Gandalf moves a Helper closer to the his destination:\n",
    "    In this case the the Helper moves one step closer so the value will also be less than or equal to one.\n",
    "\n",
    "- Gandalf moves without moving any Helpers:\n",
    "    In this case the heusitics for state C and A are equal therfore the difference is equal to zero and the quation holds.\n",
    "    \n",
    "- Gandalf moves a Helper further away from the his destination:\n",
    "    In this case the heuristic of the later state is larger so the value will become negative so the equation holds.    \n"
   ]
  },
  {
   "cell_type": "markdown",
   "id": "ef71c2d6",
   "metadata": {
    "id": "ef71c2d6"
   },
   "source": [
    "### Weighted A*\n",
    "The idea of this search is to speed up search at the expense of optimality the difference is that we use weight and multiply it by heuristic   \n",
    "\n",
    "f = g + alpha * heuristic\n",
    "  \n",
    "and the heuristic is no longer admissible because first solution found is not guaranteed to be optimal."
   ]
  },
  {
   "cell_type": "code",
   "execution_count": 8,
   "id": "5aaef267",
   "metadata": {
    "id": "5aaef267"
   },
   "outputs": [],
   "source": [
    "class A_STAR:\n",
    "\tdef __init__(self, gandalf_x, gandalf_y, end_x, end_y, eureka_manhattan, des_helpers_x, des_helpers_y, game_map, mode\n",
    "                 , helpers_x, helpers_y):\n",
    "\t\tself.inital_node = Node(gandalf_x, gandalf_y, end_x, end_y, eureka_manhattan, des_helpers_x, des_helpers_y, game_map,\n",
    "                                -1, -1, 0, [0]*len(des_helpers_x))\n",
    "\t\tself.frontier = HEAP_queue()\n",
    "\t\tself.explored = set()\n",
    "\t\tself.unique_states = set()\n",
    "\t\tself.number_of_states = 0\n",
    "\t\tself.number_of_unique_states = 0\n",
    "\t\tself.path_cost = 0\n",
    "\t\tself.goal_node = None\n",
    "\t\tself.path = ''\n",
    "\t\tself.mode = mode\n",
    "\t\tself.helpers_x = helpers_x\n",
    "\t\tself.helpers_y = helpers_y\n",
    "\t\tself.des_helpers_x = des_helpers_x\n",
    "\t\tself.des_helpers_y = des_helpers_y\n",
    "\t\tself.end_x = end_x\n",
    "\t\tself.end_y = end_y\n",
    "        \n",
    "\tdef f(self, node):\n",
    "\t\tif self.mode == HEURISTIC:\n",
    "\t\t\treturn self.g(node) + self.h(node)\n",
    "\t\telif self.mode == LOW_WEIGHTED:\n",
    "\t\t\treturn self.g(node) + SMALL_ALPHA * self.h(node)\n",
    "\t\telif self.mode == HIGH_WEIGHTED:\n",
    "\t\t\treturn self.g(node) + BIG_ALPHA * self.h(node)\n",
    "\n",
    "\tdef g(self, node):\n",
    "\t\treturn node.path_cost\n",
    "\n",
    "\tdef h(self, node):\n",
    "\t\tsum_distance = 0\n",
    "\t\tmin_distance = math.inf\n",
    "\t\tgandalf_x = node.get_state()[0]\n",
    "\t\tgandalf_y = node.get_state()[1]\n",
    "\t\tis_helpers_reach_des = node.get_state()[2]\n",
    "\t\tcur_helper = node.get_state()[3]\n",
    "\t\tif cur_helper != -1:\n",
    "\t\t\tsum_distance = abs(gandalf_x - self.des_helpers_x[cur_helper]) + abs(gandalf_y - self.des_helpers_y[cur_helper])\n",
    "\t\t\tsum_distance += abs(self.end_x - self.des_helpers_x[cur_helper]) + abs(self.end_y - self.des_helpers_y[cur_helper])\n",
    "\t\telse:\n",
    "\t\t\tfor i in range(len(is_helpers_reach_des)):\n",
    "\t\t\t\tif is_helpers_reach_des[i] == False: \n",
    "\t\t\t\t\tmanhattan = abs(gandalf_x - self.helpers_x[i]) + abs(gandalf_y - self.helpers_y[i]) + abs(self.helpers_x[i] - self.des_helpers_x[i]) + abs(self.helpers_y[i] - self.des_helpers_y[i])\n",
    "\t\t\t\t\tmanhattan += abs(self.end_x - self.des_helpers_x[i]) + abs(self.end_y - self.des_helpers_y[i])\n",
    "\t\t\t\t\tif manhattan < min_distance:\n",
    "\t\t\t\t\t\tmin_distance = manhattan                       \n",
    "\t\t\t\t\tsum_distance = min_distance\n",
    "\t\tif not False in is_helpers_reach_des:\n",
    "\t\t\tsum_distance = abs(gandalf_x - self.end_x) + abs(gandalf_y - self.end_y)\n",
    "\t\treturn sum_distance\n",
    "\n",
    "\tdef run_a_star(self):\n",
    "\t\tnode = self.inital_node\n",
    "\t\tif node.goal_test():\n",
    "\t\t\tself.goal_node = node\n",
    "\t\t\tself.path_cost= node.path_cost\n",
    "\t\t\treturn True\n",
    "\t\tself.frontier.enqueue(node, self.f(node))\n",
    "\t\twhile not self.frontier.is_empty():\n",
    "\t\t\tself.number_of_states += 1\n",
    "\t\t\tnode = self.frontier.dequeue()\n",
    "\t\t\tif node.get_string() in self.explored:\n",
    "\t\t\t\tcontinue\n",
    "\t\t\tself.explored.add(node.get_string())\n",
    "\t\t\tif not node.get_string() in self.unique_states:\n",
    "\t\t\t\tself.unique_states.add(node.get_string())\n",
    "\t\t\t\tself.number_of_unique_states += 1\n",
    "\t\t\tif node.goal_test():\n",
    "\t\t\t\tself.goal_node = node\n",
    "\t\t\t\tself.path_cost= node.path_cost\n",
    "\t\t\t\treturn True\n",
    "\t\t\tfor child in node.get_children():\n",
    "\t\t\t\tif not child.get_string() in self.explored:\n",
    "\t\t\t\t\tself.frontier.enqueue(child, self.f(child))\n",
    "\t\treturn False\n",
    "\n",
    "\tdef show_a_star_result(self):\n",
    "\t\tnode = self.goal_node\n",
    "\t\twhile node.parent != None:\n",
    "\t\t\tself.path += node.action\n",
    "\t\t\tnode = node.parent\n",
    "\t\tself.path = ''.join(reversed(self.path))\n",
    "\t\tif self.mode == HEURISTIC:\n",
    "\t\t\tprint(\"$ A* Search $\")\n",
    "\t\telif self.mode == LOW_WEIGHTED:\n",
    "\t\t\tprint(\"$ Weighted A* Search with Alpha = \" + str(SMALL_ALPHA) + \" $\")\n",
    "\t\telif self.mode == HIGH_WEIGHTED:\n",
    "\t\t\tprint(\"$ Weighted A* Search with Alpha = \" + str(BIG_ALPHA) + \" $\")   \n",
    "\t\tprint(\"Path Cost: \" + str(self.path_cost))\n",
    "\t\tprint(\"Path: \" + self.path)\n",
    "\t\tprint(\"Number of Visited States: \" + str(self.number_of_states))\n",
    "\t\tprint(\"Number of Unique Visited States: \" + str(self.number_of_unique_states))"
   ]
  },
  {
   "cell_type": "markdown",
   "id": "ac70a833",
   "metadata": {
    "id": "ac70a833"
   },
   "source": [
    "### Importing Data\n",
    "In this part, the inputs read from the file and splited and stored in lists and variables."
   ]
  },
  {
   "cell_type": "code",
   "execution_count": 9,
   "id": "7dfba09e",
   "metadata": {
    "id": "7dfba09e"
   },
   "outputs": [],
   "source": [
    "def read_data(filename):\n",
    "\tn = 0\n",
    "\tm = 0\n",
    "\tgandalf_x = -1 \n",
    "\tgandalf_y = -1\n",
    "\tend_x = -1\n",
    "\tend_y = -1\n",
    "\tk = 0\n",
    "\tl = 0\n",
    "\tglobal MAP_LENGHT\n",
    "\tglobal MAP_WIDTH\n",
    "\tglobal NUMBER_OF_FELLOWS\n",
    "\teurekas_x = list()\n",
    "\teurekas_y = list()\n",
    "\teureka_manhattan = list()\n",
    "\thelpers_x = list()\n",
    "\thelpers_y = list()\n",
    "\tdes_helpers_x = list()\n",
    "\tdes_helpers_y = list()\n",
    "\tgame_map = []\n",
    "\twith open(filename) as f:\n",
    "\t\tn, m = [int(x) for x in next(f).split(' ')]\n",
    "\t\tMAP_LENGHT = n\n",
    "\t\tMAP_WIDTH = m       \n",
    "\t\tgandalf_x, gandalf_y = [int(x) for x in next(f).split(' ')]\n",
    "\t\tend_x, end_y = [int(x) for x in next(f).split(' ')]\n",
    "\t\tk, l = [int(x) for x in next(f).split(' ')]\n",
    "\t\tNUMBER_OF_FELLOWS = l\n",
    "\t\tfor i in range(0, n):\n",
    "\t\t\tgame_map.append([BLANK for i in range(m)])\n",
    "\t\tfor i in range(k):\n",
    "\t\t\teureka_x, eureka_y, eureka_man = [int(x) for x in next(f).split(' ')] \n",
    "\t\t\tfor j in range(eureka_man):\n",
    "\t\t\t\tfor k in range(j * 2 + 1):\n",
    "\t\t\t\t\tif eureka_x - eureka_man + j >= 0 and eureka_y - j + k >=0 and eureka_y - j + k < m:\n",
    "\t\t\t\t\t\tgame_map[eureka_x - eureka_man + j][eureka_y - j + k] = EUREKA + str(i)\n",
    "\t\t\tfor j in range(eureka_man):\n",
    "\t\t\t\tfor k in range(j * 2 + 1):\n",
    "\t\t\t\t\tif eureka_x + eureka_man - j < n and eureka_y - j + k >=0 and eureka_y - j + k < m:\n",
    "\t\t\t\t\t\tgame_map[eureka_x + eureka_man - j][eureka_y - j + k] = EUREKA + str(i)\n",
    "\t\t\tfor j in range(eureka_man * 2 + 1):\n",
    "\t\t\t\tif eureka_y - eureka_man + j >=0 and eureka_y - eureka_man + j < m:\n",
    "\t\t\t\t\tgame_map[eureka_x][eureka_y - eureka_man + j] = EUREKA + str(i)\n",
    "\t\t\teureka_manhattan.append(eureka_man)\n",
    "\t\tfor i in range(l):\n",
    "\t\t\thelper_x, helper_y = [int(x) for x in next(f).split(' ')]\n",
    "\t\t\tgame_map[helper_x][helper_y] = HELPER + str(i) \n",
    "\t\t\thelpers_x.append(helper_x)\n",
    "\t\t\thelpers_y.append(helper_y)\n",
    "\t\tfor i in range(l):\n",
    "\t\t\tdes_helper_x, des_helper_y = [int(x) for x in next(f).split(' ')] \n",
    "\t\t\tdes_helpers_x.append(des_helper_x)\n",
    "\t\t\tdes_helpers_y.append(des_helper_y)\n",
    "\n",
    "\treturn gandalf_x, gandalf_y, end_x, end_y, eureka_manhattan, des_helpers_x, des_helpers_y, game_map, helpers_x, helpers_y"
   ]
  },
  {
   "cell_type": "markdown",
   "id": "f814e9fb",
   "metadata": {
    "id": "f814e9fb"
   },
   "source": [
    "### Running BFS"
   ]
  },
  {
   "cell_type": "code",
   "execution_count": 10,
   "id": "4edd6b0b",
   "metadata": {
    "id": "4edd6b0b"
   },
   "outputs": [],
   "source": [
    "def run_BFS(test_file):\n",
    "\tgandalf_x, gandalf_y, end_x, end_y, eureka_manhattan, des_helpers_x, des_helpers_y, game_map, helpers_x, helpers_y = read_data(test_file)\n",
    "\tbfs = BFS(gandalf_x, gandalf_y, end_x, end_y, eureka_manhattan, des_helpers_x, des_helpers_y, game_map)\n",
    "\taverage_time = 0\n",
    "\tfor i in range(0, NUMBER_OF_TEST_REPETITIONS):\n",
    "\t\tbfs = BFS(gandalf_x, gandalf_y, end_x, end_y, eureka_manhattan, des_helpers_x, des_helpers_y, game_map)\n",
    "\t\tstart_time = time()\n",
    "\t\tbfs.run_bfs()\n",
    "\t\tfinish_time = time()\n",
    "\t\taverage_time += (finish_time - start_time)\n",
    "\tbfs.show_bfs_result()\n",
    "\taverage_time /= NUMBER_OF_TEST_REPETITIONS \n",
    "\tprint(\"Average Execution Time for 3 BFS runs: \" + str(average_time) + \" seconds\\n\")"
   ]
  },
  {
   "cell_type": "markdown",
   "id": "ffceec73",
   "metadata": {
    "id": "ffceec73"
   },
   "source": [
    "### Running IDS"
   ]
  },
  {
   "cell_type": "code",
   "execution_count": 11,
   "id": "175c8421",
   "metadata": {
    "id": "175c8421"
   },
   "outputs": [],
   "source": [
    "def run_IDS(test_file):   \n",
    "\tgandalf_x, gandalf_y, end_x, end_y, eureka_manhattan, des_helpers_x, des_helpers_y, game_map, helpers_x, helpers_y = read_data(test_file)\n",
    "\tids = IDS(gandalf_x, gandalf_y, end_x, end_y, eureka_manhattan, des_helpers_x, des_helpers_y, game_map)\n",
    "\taverage_time = 0\n",
    "\tfor i in range(0, NUMBER_OF_TEST_REPETITIONS):\n",
    "\t\tids = IDS(gandalf_x, gandalf_y, end_x, end_y, eureka_manhattan, des_helpers_x, des_helpers_y, game_map)\n",
    "\t\tstart_time = time()\n",
    "\t\tids.run_ids()\n",
    "\t\tfinish_time = time()\n",
    "\t\taverage_time += (finish_time - start_time)\n",
    "\tids.show_ids_result()\n",
    "\taverage_time /= NUMBER_OF_TEST_REPETITIONS\n",
    "\tprint(\"Average Execution Time for 3 IDS runs: \" + str(average_time) + \" seconds\\n\")"
   ]
  },
  {
   "cell_type": "markdown",
   "id": "1e91ed48",
   "metadata": {
    "id": "1e91ed48"
   },
   "source": [
    "### Running A*"
   ]
  },
  {
   "cell_type": "code",
   "execution_count": 12,
   "id": "90512835",
   "metadata": {
    "id": "90512835"
   },
   "outputs": [],
   "source": [
    "def run_A_STAR(test_file, version):\n",
    "\tgandalf_x, gandalf_y, end_x, end_y, eureka_manhattan, des_helpers_x, des_helpers_y, game_map, helpers_x, helpers_y = read_data(test_file)\n",
    "\ta_star = A_STAR(gandalf_x, gandalf_y, end_x, end_y, eureka_manhattan, des_helpers_x, des_helpers_y, game_map, version, helpers_x, helpers_y)\n",
    "\taverage_time = 0\n",
    "\tfor i in range(0, NUMBER_OF_TEST_REPETITIONS):\n",
    "\t\ta_star = A_STAR(gandalf_x, gandalf_y, end_x, end_y, eureka_manhattan, des_helpers_x, des_helpers_y, game_map, version, helpers_x, helpers_y)\n",
    "\t\tstart_time = time()\n",
    "\t\ta_star.run_a_star()\n",
    "\t\tfinish_time = time()\n",
    "\t\taverage_time += (finish_time - start_time)\n",
    "\ta_star.show_a_star_result()\n",
    "\taverage_time /= NUMBER_OF_TEST_REPETITIONS\n",
    "\tprint(\"Average Execution Time for 3 A* runs: \" + str(average_time) + \" seconds\\n\")"
   ]
  },
  {
   "cell_type": "markdown",
   "id": "b136f435",
   "metadata": {
    "id": "b136f435"
   },
   "source": [
    "### Running Testcases"
   ]
  },
  {
   "cell_type": "code",
   "execution_count": 13,
   "id": "5607895a",
   "metadata": {
    "id": "5607895a"
   },
   "outputs": [],
   "source": [
    "def run_test(test_file):\n",
    "\trun_BFS(test_file)\n",
    "\trun_IDS(test_file)\n",
    "\trun_A_STAR(test_file, HEURISTIC)\n",
    "\trun_A_STAR(test_file, LOW_WEIGHTED)\n",
    "\trun_A_STAR(test_file, HIGH_WEIGHTED)"
   ]
  },
  {
   "cell_type": "code",
   "execution_count": 14,
   "id": "b385cfb7",
   "metadata": {
    "colab": {
     "base_uri": "https://localhost:8080/"
    },
    "id": "b385cfb7",
    "outputId": "41b7f11c-6b78-4294-b835-5a683059b0f6"
   },
   "outputs": [
    {
     "name": "stdout",
     "output_type": "stream",
     "text": [
      "Testcase #1....\n",
      "\n",
      "$ BFS $\n",
      "Path Cost: 48\n",
      "Path:  R R R R R R R R R R R R R R R R R R R R R R R R R R R R R D U R D R U D R U D U R D R R R R R R\n",
      "Number of Visited States: 10506\n",
      "Number of Unique Visited States: 6426\n",
      "Average Execution Time for 3 BFS runs: 0.1825258731842041 seconds\n",
      "\n",
      "$ IDS $\n",
      "Path Cost: 48\n",
      "Path: R R R R R R D U R D U R D U R D U R D R R R R R R R R R R R R R R R R R R R R R R R R R R R R R \n",
      "Number of Visited States: 50360\n",
      "Number of Unique Visited States: 7279\n",
      "Average Execution Time for 3 IDS runs: 1.0537381966908772 seconds\n",
      "\n",
      "$ A* Search $\n",
      "Path Cost: 48\n",
      "Path:  R R R R R R R R R R R R R R R R R R R R R R R R R R R R R D U R D U R D R U D U R D R R R R R R\n",
      "Number of Visited States: 1295\n",
      "Number of Unique Visited States: 919\n",
      "Average Execution Time for 3 A* runs: 0.033869663874308266 seconds\n",
      "\n",
      "$ Weighted A* Search with Alpha = 2.25 $\n",
      "Path Cost: 48\n",
      "Path:  R R R R R R R R R R R R R R R R R R R R R R R R R R R R R D R U D R U D R U D U R D R R R R R R\n",
      "Number of Visited States: 570\n",
      "Number of Unique Visited States: 518\n",
      "Average Execution Time for 3 A* runs: 0.017878611882527668 seconds\n",
      "\n",
      "$ Weighted A* Search with Alpha = 12.25 $\n",
      "Path Cost: 48\n",
      "Path:  R R R R R R R R R R R R R R R R R R R R R R R R R R R R R D U R D R U D U R D U R D R R R R R R\n",
      "Number of Visited States: 583\n",
      "Number of Unique Visited States: 448\n",
      "Average Execution Time for 3 A* runs: 0.020513057708740234 seconds\n",
      "\n"
     ]
    }
   ],
   "source": [
    "print(\"Testcase #1....\\n\")\n",
    "run_test(TESTCASE1)"
   ]
  },
  {
   "cell_type": "code",
   "execution_count": 15,
   "id": "52dc4692",
   "metadata": {
    "colab": {
     "base_uri": "https://localhost:8080/"
    },
    "id": "52dc4692",
    "outputId": "37cadb96-4a17-4144-f37c-cc6ed0940f6c"
   },
   "outputs": [
    {
     "name": "stdout",
     "output_type": "stream",
     "text": [
      "Testcase #2....\n",
      "\n",
      "$ BFS $\n",
      "Path Cost: 52\n",
      "Path:  R R D D R R L L D D D D D D L R R U U R U U U R R L L D D D L D D R R R R R U U U U D D D L D L L R R R\n",
      "Number of Visited States: 2022\n",
      "Number of Unique Visited States: 1381\n",
      "Average Execution Time for 3 BFS runs: 0.02969646453857422 seconds\n",
      "\n",
      "$ IDS $\n",
      "Path Cost: 52\n",
      "Path: R R R L L D L D D D R R R R U U U R U L D D D D D L L U R U R U U R R R U L D D D D D L D L R R D R D R \n",
      "Number of Visited States: 31390\n",
      "Number of Unique Visited States: 1395\n",
      "Average Execution Time for 3 IDS runs: 0.6171418825785319 seconds\n",
      "\n",
      "$ A* Search $\n",
      "Path Cost: 52\n",
      "Path:  R D R D R R L D L D D D D D L U R U R R U U R R U D L L D D L D D U U R U R U R R R D D D L D L L R R R\n",
      "Number of Visited States: 1435\n",
      "Number of Unique Visited States: 991\n",
      "Average Execution Time for 3 A* runs: 0.02336772282918294 seconds\n",
      "\n",
      "$ Weighted A* Search with Alpha = 2.25 $\n",
      "Path Cost: 54\n",
      "Path:  R R D D R R L L D D D D D L D R R R U U U R U R U D L L D D L D D R U U U U R R R R L L L D L D D R D R R R\n",
      "Number of Visited States: 1394\n",
      "Number of Unique Visited States: 962\n",
      "Average Execution Time for 3 A* runs: 0.023264646530151367 seconds\n",
      "\n",
      "$ Weighted A* Search with Alpha = 12.25 $\n",
      "Path Cost: 58\n",
      "Path:  R R D D D D R R U U D L D L D D D D L R U R R U U U R R U D L L D D D L D R U U U R U R R R L L L D L D D D R R R R\n",
      "Number of Visited States: 1355\n",
      "Number of Unique Visited States: 942\n",
      "Average Execution Time for 3 A* runs: 0.022113561630249023 seconds\n",
      "\n"
     ]
    }
   ],
   "source": [
    "print(\"Testcase #2....\\n\")\n",
    "run_test(TESTCASE2)"
   ]
  },
  {
   "cell_type": "code",
   "execution_count": 16,
   "id": "a3a9bc78",
   "metadata": {
    "colab": {
     "base_uri": "https://localhost:8080/"
    },
    "id": "a3a9bc78",
    "outputId": "5b32fb07-1450-4924-a48f-46460251beb4"
   },
   "outputs": [
    {
     "name": "stdout",
     "output_type": "stream",
     "text": [
      "Testcase #3....\n",
      "\n",
      "$ BFS $\n",
      "Path Cost: 34\n",
      "Path:  R R R R R R R L D L L D L D D L D L L D R D U U R U R R R D R R D D\n",
      "Number of Visited States: 550\n",
      "Number of Unique Visited States: 384\n",
      "Average Execution Time for 3 BFS runs: 0.007004261016845703 seconds\n",
      "\n",
      "$ IDS $\n",
      "Path Cost: 34\n",
      "Path: D D R D R R R U R U R U R D D L L D L D D L L D L D L R R R R R R R \n",
      "Number of Visited States: 5375\n",
      "Number of Unique Visited States: 404\n",
      "Average Execution Time for 3 IDS runs: 0.08536807696024577 seconds\n",
      "\n",
      "$ A* Search $\n",
      "Path Cost: 34\n",
      "Path:  R R R R R R R D L L D L L D D D L L L R D D U U R R U R R R D R D D\n",
      "Number of Visited States: 301\n",
      "Number of Unique Visited States: 211\n",
      "Average Execution Time for 3 A* runs: 0.004955450693766276 seconds\n",
      "\n",
      "$ Weighted A* Search with Alpha = 2.25 $\n",
      "Path Cost: 34\n",
      "Path:  R R R R R R R D L L L D D L D D L L L R D D R U U R U R R D R R D D\n",
      "Number of Visited States: 221\n",
      "Number of Unique Visited States: 169\n",
      "Average Execution Time for 3 A* runs: 0.0039028326670328775 seconds\n",
      "\n",
      "$ Weighted A* Search with Alpha = 12.25 $\n",
      "Path Cost: 34\n",
      "Path:  R R R R R R R D L L L D D L D D L L L D D R R U U R U R R R D D R D\n",
      "Number of Visited States: 210\n",
      "Number of Unique Visited States: 158\n",
      "Average Execution Time for 3 A* runs: 0.0037824312845865884 seconds\n",
      "\n"
     ]
    }
   ],
   "source": [
    "print(\"Testcase #3....\\n\")\n",
    "run_test(TESTCASE3)"
   ]
  },
  {
   "cell_type": "code",
   "execution_count": 17,
   "id": "fb43d359",
   "metadata": {
    "colab": {
     "base_uri": "https://localhost:8080/"
    },
    "id": "fb43d359",
    "outputId": "96c7f039-0e96-4623-b56f-aa8382189255",
    "scrolled": true
   },
   "outputs": [
    {
     "name": "stdout",
     "output_type": "stream",
     "text": [
      "Testcase #4....\n",
      "\n",
      "$ BFS $\n",
      "Path Cost: 66\n",
      "Path:  D D R D R D D D L L D D R D R R R R U U U U U U R U R U U R R L L D L D D D D D L L D L D L L D U R R U R R U U U R R R R D D D D D\n",
      "Number of Visited States: 5864\n",
      "Number of Unique Visited States: 3921\n",
      "Average Execution Time for 3 BFS runs: 0.09383455912272136 seconds\n",
      "\n",
      "$ IDS $\n",
      "Path Cost: 66\n",
      "Path: D D D D D R R R R U U U R R R U R U L L L D D D D L L D D D D L D L L R U R R U U U U U R R U U R R R U D R L L D D D D D D R R D D \n",
      "Number of Visited States: 103344\n",
      "Number of Unique Visited States: 3961\n",
      "Average Execution Time for 3 IDS runs: 2.0671929518381753 seconds\n",
      "\n",
      "$ A* Search $\n",
      "Path Cost: 66\n",
      "Path:  D R D D R D D L D L D D R D R U R U R U U R U R U U R U R U R L L D L D D L D L L L D D D D L D U R R U R R U U U R R R R D D D D D\n",
      "Number of Visited States: 3919\n",
      "Number of Unique Visited States: 2649\n",
      "Average Execution Time for 3 A* runs: 0.07739734649658203 seconds\n",
      "\n",
      "$ Weighted A* Search with Alpha = 2.25 $\n",
      "Path Cost: 66\n",
      "Path:  R D R D D D D L D L D D R D R R U R R U U U R R R R U U U U U L L L D D D L D L D D D D D L L L R R U R R U U U U R R R R D D D D D\n",
      "Number of Visited States: 3064\n",
      "Number of Unique Visited States: 2123\n",
      "Average Execution Time for 3 A* runs: 0.05805428822835287 seconds\n",
      "\n",
      "$ Weighted A* Search with Alpha = 12.25 $\n",
      "Path Cost: 68\n",
      "Path:  R D D R D D D L D L D D R D R U R R R U U U R R U U R R U U U L L L L L L D L L D D R D D D D D L D R R R U R U U U U R R R R D D D D D\n",
      "Number of Visited States: 1992\n",
      "Number of Unique Visited States: 1389\n",
      "Average Execution Time for 3 A* runs: 0.03711414337158203 seconds\n",
      "\n"
     ]
    }
   ],
   "source": [
    "print(\"Testcase #4....\\n\")\n",
    "run_test(TESTCASE4)"
   ]
  },
  {
   "cell_type": "markdown",
   "id": "6fa6629a",
   "metadata": {},
   "source": [
    "## Compare algorithms with each other"
   ]
  },
  {
   "cell_type": "markdown",
   "id": "3a905b9f",
   "metadata": {
    "id": "3a905b9f"
   },
   "source": [
    "#### BFS:\n",
    "BFS can be fast in searching but the hold-up is that it's uninformed. Also BFS does not visit a state twice.\n",
    "\n",
    "*Advantages:*\n",
    "* The solution will definitely found out by BFS If there is some solution.\n",
    "* If there is more than one solution then it will find a solution with minimal steps.\n",
    "* BFS will never get trapped in a blind alley, which means unwanted nodes.\n",
    "\n",
    "*Disadvantages:*\n",
    "* If a solution is far away then it consumes time.\n",
    "* Memory Constraints As it stores all the nodes of the present level to go for the next level.\n",
    "\n",
    "BFS is optimal if cost = 1 per step (if the path cost is a nondecreasing function of the depth of the node)\n",
    "\n",
    "#### IDS:\n",
    "IDS is much slower than the other search algorithms again one reason being that IDS is uninformed but it's main advantage is it's memory. It can operate with just a stack proportional to the depth of one branch.\n",
    "\n",
    "*Advantages:*\n",
    "* When the solutions are found at the lower depths say n, then the algorithm proves to be efficient and in time.\n",
    "\n",
    "*Disadvantages:*\n",
    "* The main problem with IDS is the time and wasted calculations that take place at each depth.\n",
    "\n",
    "IDS is optimal if step cost = 1\n",
    "\n",
    "#### A*:\n",
    "A* is a very fast search algorithm a good thing about is that A* is an informed search algorithm so this means it uses a heuristic function to search in the rational direction.\n",
    "\n",
    "If h(n) is consistent, then the values of f(n) along any path are nondecreasing. Whenever A∗ selects a node n for expansion, the optimal path to that node has been found.\n",
    "\n",
    "If A* returns a solution, that solution is guaranteed to be optimal, as long as:\n",
    "* the branching factor is finite\n",
    "* arc costs are strictly positive\n",
    "* h(n) is an underestimate of the length of the shortest path from n to a goal node, and is non-negative\n",
    "\n",
    "#### Weighted A*:\n",
    "Weighted A* is completely similar to A* but calculating f(n) is different. This difference will result in even faster search algorithm but the disadvantage can be missing the optimal path.\n",
    "\n",
    "The idea of Weighted A* is speed up search at the expense of optimality Take an admissible heuristic, “inflate” it by a multiple α > 1, and then perform A* search as usual. Fewer nodes tend to get expanded, but the resulting solution may be suboptimal (its cost will be at most α times the cost of the optimal solution)"
   ]
  },
  {
   "cell_type": "markdown",
   "id": "ef89fce3",
   "metadata": {},
   "source": [
    "###  BFS vs IDS vs A*\n",
    "We know that the complexity of FIFO queue is better than\n",
    "the min-heap queue and we know that uninformed search algorithms are slower than\n",
    "informed search algorithms. Also the time complexity of A* is better\n",
    "than BFS and it is faster when we have a higher branching\n",
    "factor. So:\n",
    "\n",
    "We choose BFS if:\n",
    "* time and memory is very critical\n",
    "* our heuristic is not good and optimality and memory is important for us\n",
    "\n",
    "We choose IDS if:\n",
    "* the solution is in higher depth\n",
    "* our heuristic is not good and optimality and memory is important for us\n",
    "\n",
    "We choose A* if:\n",
    "* we have an admissible heuristic\n",
    "\n"
   ]
  },
  {
   "cell_type": "markdown",
   "id": "511643f5",
   "metadata": {},
   "source": [
    "So each algorithm has it's own advantages and disadvantages so we should use them based on our problem properties.\n",
    "\n",
    "BFS sometimes can have fewer explored states than A* and that's because it doesn't insert a state which is already in the frontier to frontier again, but A* has to do it, but usually it won't have to explore it so it's always faster.\n",
    "#### As result, we conclude that informed search algorithms are much faster than uninformed algorithms."
   ]
  }
 ],
 "metadata": {
  "colab": {
   "collapsed_sections": [],
   "name": "AI_CA1.ipynb",
   "provenance": []
  },
  "kernelspec": {
   "display_name": "Python 3 (ipykernel)",
   "language": "python",
   "name": "python3"
  },
  "language_info": {
   "codemirror_mode": {
    "name": "ipython",
    "version": 3
   },
   "file_extension": ".py",
   "mimetype": "text/x-python",
   "name": "python",
   "nbconvert_exporter": "python",
   "pygments_lexer": "ipython3",
   "version": "3.9.7"
  }
 },
 "nbformat": 4,
 "nbformat_minor": 5
}
